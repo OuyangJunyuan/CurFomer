{
 "cells": [
  {
   "cell_type": "code",
   "execution_count": 32,
   "outputs": [
    {
     "name": "stderr",
     "output_type": "stream",
     "text": [
      "[2023-12-20 21:55:30,824 cfg INFO] import module at root: /home/nrsl/workspace/temp/voxformer\n",
      "[2023-12-20 21:55:30,825 cfg INFO] import module as config: configs.voxformer.voxformer_res_4x2_80e_kitti_3cls\n",
      "[2023-12-20 21:55:30,830 dataset INFO] Loading KITTI dataset\n",
      "[2023-12-20 21:55:30,958 dataset INFO] Total samples for KITTI dataset: 3769\n",
      "[2023-12-20 21:55:31,313 ckpt INFO] load checkpoint /home/nrsl/workspace/temp/voxformer/output/kitti_3cls/voxformer_res_4x2_80e_kitti_3cls/vfe_res_seg/train/ckpt/checkpoint_epoch_80.pth to cuda:0\n",
      "[2023-12-20 21:55:31,314 ckpt INFO] checkpoint trained from version: 0.5.2+0000000\n",
      "[2023-12-20 21:55:31,343 ckpt INFO] loaded params for model (275/275)\n"
     ]
    },
    {
     "name": "stdout",
     "output_type": "stream",
     "text": [
      "tensor([2638, 2613,  253], device='cuda:0')\n",
      "tensor([5248,   99,   88,   69], device='cuda:0')\n",
      "torch.Size([5504, 3])\n",
      "(0.8941176470588236, 0.10196078431372549, 0.10980392156862745, 1.0)\n",
      "(0.21568627450980393, 0.49411764705882355, 0.7215686274509804, 1.0)\n",
      "(0.30196078431372547, 0.6862745098039216, 0.2901960784313726, 1.0)\n",
      "(0.596078431372549, 0.3058823529411765, 0.6392156862745098, 1.0)\n"
     ]
    }
   ],
   "source": [
    "import os\n",
    "\n",
    "import numpy as np\n",
    "import torch\n",
    "import accelerate\n",
    "\n",
    "from rd3d.datasets import build_dataloader\n",
    "from rd3d.core import Config\n",
    "from rd3d import PROJECT_ROOT\n",
    "from rd3d.models.dense_heads.point_segment_head import PointSegmentor\n",
    "\n",
    "# cfg_file = \"configs/voxformer/voxformer_res_4x2_80e_kitti_3cls.py\"\n",
    "# ckpt_file = '/home/nrsl/workspace/temp/voxformer/output/kitti_3cls/voxformer_res_4x2_80e_kitti_3cls/vfe_res_seg/train/ckpt/checkpoint_epoch_80.pth'\n",
    "\n",
    "cfg_file = \"configs/voxformer/voxformer_4x2_80e_kitti_3cls.py\"\n",
    "ckpt_file = '/home/nrsl/workspace/temp/voxformer/output/kitti_3cls/voxformer_4x2_80e_kitti_3cls/seg/train/ckpt/checkpoint_epoch_80.pth'\n",
    "\n",
    "os.chdir(PROJECT_ROOT)\n",
    "acc = accelerate.Accelerator()\n",
    "cfg = Config.fromfile_py(cfg_file)\n",
    "dataloader = build_dataloader(cfg.DATASET, cfg.RUN, training=False)\n",
    "batch_dict = dataloader.dataset.collate_batch([dataloader.dataset[30]])\n",
    "dataloader.dataset.load_data_to_gpu(batch_dict)\n",
    "from rd3d.models import build_detector\n",
    "from rd3d.core.ckpt import load_from_file\n",
    "from rd3d.utils import viz_utils\n",
    "from matplotlib import pyplot as plt\n",
    "\n",
    "cfg.MODEL.DENSE_HEAD.SAMPLE_TOPK = False\n",
    "model = build_detector(cfg.MODEL, dataset=dataloader.dataset).cuda()\n",
    "\n",
    "load_from_file(ckpt_file, model)\n",
    "model.eval()\n",
    "# batch_dict = model.vfe(batch_dict)\n",
    "# viz_utils.viz_scene(batch_dict['voxel_features'][:, :3])\n",
    "batch_dict = model.dense_head(model.backbone_3d(model.vfe(batch_dict)))\n",
    "cls_scores = batch_dict['cls_logits'].sigmoid()\n",
    "cls_scores, pred_labels = cls_scores.max(dim=-1)\n",
    "print(torch.bincount(pred_labels))\n",
    "pred_labels += 1\n",
    "threshold = cls_scores.topk(256)[0][-1]\n",
    "pred_labels[cls_scores < threshold] = 0\n",
    "print(torch.bincount(pred_labels))\n",
    "points = batch_dict['point_coords']\n",
    "print(points.shape)\n",
    "\n",
    "print(plt.cm.Set1(0))\n",
    "print(plt.cm.Set1(1))\n",
    "print(plt.cm.Set1(2))\n",
    "print(plt.cm.Set1(3))\n",
    "\n",
    "points_list = points.split(batch_dict['voxel_numbers'].tolist(), dim=0)\n",
    "labels_list = pred_labels.split(batch_dict['voxel_numbers'].tolist(), dim=0)\n",
    "\n",
    "this_points = points_list[0].detach().cpu().numpy()\n",
    "this_pred_labels = labels_list[0].detach().cpu().numpy()\n",
    "this_colors = plt.cm.Set1(this_pred_labels)[:, :3]\n",
    "viz_utils.viz_scene((this_points, this_colors), batch_dict['gt_boxes_list'][0])\n"
   ],
   "metadata": {
    "collapsed": false,
    "ExecuteTime": {
     "end_time": "2023-12-20T13:55:48.053311656Z",
     "start_time": "2023-12-20T13:55:30.826971663Z"
    }
   }
  }
 ],
 "metadata": {
  "kernelspec": {
   "display_name": "Python 3",
   "language": "python",
   "name": "python3"
  },
  "language_info": {
   "codemirror_mode": {
    "name": "ipython",
    "version": 2
   },
   "file_extension": ".py",
   "mimetype": "text/x-python",
   "name": "python",
   "nbconvert_exporter": "python",
   "pygments_lexer": "ipython2",
   "version": "2.7.6"
  }
 },
 "nbformat": 4,
 "nbformat_minor": 0
}
