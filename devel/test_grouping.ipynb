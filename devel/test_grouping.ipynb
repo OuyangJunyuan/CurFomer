{
 "cells": [
  {
   "cell_type": "code",
   "execution_count": null,
   "metadata": {
    "collapsed": true
   },
   "outputs": [],
   "source": [
    "import os\n",
    "\n",
    "import numpy as np\n",
    "import torch\n",
    "import accelerate\n",
    "\n",
    "from rd3d.datasets import build_dataloader\n",
    "from rd3d.core import Config\n",
    "from rd3d import PROJECT_ROOT\n",
    "\n",
    "os.chdir(PROJECT_ROOT)\n",
    "acc = accelerate.Accelerator()\n",
    "cfg = Config.fromfile_py(\"configs/voxformer/voxformer_4x2_80e_kitti_3cls.py\")\n",
    "dataloader = build_dataloader(cfg.DATASET, cfg.RUN)"
   ]
  },
  {
   "cell_type": "code",
   "execution_count": 42,
   "outputs": [
    {
     "name": "stderr",
     "output_type": "stream",
     "text": [
      "100%|██████████| 464/464 [00:23<00:00, 19.37it/s]\n"
     ]
    },
    {
     "name": "stdout",
     "output_type": "stream",
     "text": [
      "3.1545148000253533\n"
     ]
    }
   ],
   "source": [
    "from rd3d.models import build_detector\n",
    "from tqdm import tqdm\n",
    "from rd3d.utils import viz_utils\n",
    "from matplotlib import pyplot as plt\n",
    "from collections import defaultdict\n",
    "\n",
    "model = build_detector(cfg.MODEL, dataset=dataloader.dataset).cuda()\n",
    "\n",
    "map_num = []\n",
    "for batch_dict in tqdm(iterable=dataloader):\n",
    "    dataloader.dataset.load_data_to_gpu(batch_dict)\n",
    "    batch_dict = model.vfe(batch_dict)\n",
    "    vox_numbs = batch_dict['voxel_numbers']\n",
    "    vox_coors = batch_dict['voxel_coords']\n",
    "    vox_feats = batch_dict['voxel_features']\n",
    "    ind, vox_nums = model.backbone_3d.mapping(vox_numbs, vox_coors)\n",
    "    ind1, ind2, ind12, ind21 = ind\n",
    "    vox_coors = vox_coors[ind1]\n",
    "    gs = model.backbone_3d.group_size\n",
    "    mp = torch.div(ind21.view(-1, gs), 32, rounding_mode='trunc').tolist()\n",
    "    for imp in mp:\n",
    "        map_num.append(len(set(imp)))\n",
    "print(np.mean(map_num))\n",
    "# \"\"\"\n",
    "# flip_coors: 29.8\n",
    "# reverse_coors: 29.8\n",
    "# shift: 29.76\n",
    "# \"\"\""
   ],
   "metadata": {
    "collapsed": false,
    "ExecuteTime": {
     "end_time": "2023-12-16T16:08:53.724674812Z",
     "start_time": "2023-12-16T16:08:29.570347219Z"
    }
   }
  },
  {
   "cell_type": "code",
   "execution_count": null,
   "outputs": [],
   "source": [
    "\n",
    " # vox_feats = vox_feats[ind1]\n",
    "    # vox_coors = vox_coors[ind1]\n",
    "    # points = vox_feats[vox_coors[:, 0] == 0, :3]\n",
    "    # ind = torch.randperm(points.shape[0]//gs)[:, None].repeat(1, gs).view(-1)\n",
    "    # ind = ind / ind.max()\n",
    "    # colors = plt.get_cmap('tab20c')(ind)[:, :3]\n",
    "    # viz_utils.viz_scene((points, colors))\n",
    "    # assert ((vox_feats[ind1] == vox_feats[ind2][ind21]).all())\n",
    "    # print(vox_feats[ind1])\n",
    "    # print(vox_feats[ind2][ind21])\n",
    "    # vox_feats = vox_feats[ind2][ind21]\n",
    "    # vox_coors = vox_coors[ind2][ind21]\n",
    "    # points = vox_feats[vox_coors[:, 0] == 0, :3]\n",
    "    # ind = torch.randperm(points.shape[0]//gs)[:, None].repeat(1, gs).view(-1)\n",
    "    # ind = ind / ind.max()\n",
    "    # colors = plt.get_cmap('tab20c')(ind)[:, :3]\n",
    "    # viz_utils.viz_scene((points, colors))"
   ],
   "metadata": {
    "collapsed": false
   }
  },
  {
   "cell_type": "code",
   "execution_count": 5,
   "outputs": [
    {
     "name": "stdout",
     "output_type": "stream",
     "text": [
      "[0, 1, 2]\n",
      "[0, 1, 2]\n",
      "[0, 1, 2]\n",
      "[0, 1, 2]\n"
     ]
    }
   ],
   "source": [],
   "metadata": {
    "collapsed": false,
    "ExecuteTime": {
     "end_time": "2023-12-19T16:30:08.742297094Z",
     "start_time": "2023-12-19T16:30:08.725827870Z"
    }
   }
  }
 ],
 "metadata": {
  "kernelspec": {
   "display_name": "Python 3",
   "language": "python",
   "name": "python3"
  },
  "language_info": {
   "codemirror_mode": {
    "name": "ipython",
    "version": 2
   },
   "file_extension": ".py",
   "mimetype": "text/x-python",
   "name": "python",
   "nbconvert_exporter": "python",
   "pygments_lexer": "ipython2",
   "version": "2.7.6"
  }
 },
 "nbformat": 4,
 "nbformat_minor": 0
}
