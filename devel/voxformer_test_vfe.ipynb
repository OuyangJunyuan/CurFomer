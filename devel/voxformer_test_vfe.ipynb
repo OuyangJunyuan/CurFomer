{
 "cells": [
  {
   "cell_type": "code",
   "execution_count": 1,
   "outputs": [
    {
     "name": "stderr",
     "output_type": "stream",
     "text": [
      "[2023-12-17 16:48:41,033 cfg INFO] import module at root: /home/nrsl/workspace/temp/voxformer\n",
      "[2023-12-17 16:48:41,034 cfg INFO] import module as config: configs.voxformer.voxformer_4x2_80e_kitti_3cls\n",
      "[2023-12-17 16:48:41,180 dataset INFO] Database filter by min points Car: 14357 => 13532\n",
      "[2023-12-17 16:48:41,181 dataset INFO] Database filter by min points Pedestrian: 2207 => 2168\n",
      "[2023-12-17 16:48:41,181 dataset INFO] Database filter by min points Cyclist: 734 => 705\n",
      "[2023-12-17 16:48:41,199 dataset INFO] Database filter by difficulty Car: 13532 => 10759\n",
      "[2023-12-17 16:48:41,202 dataset INFO] Database filter by difficulty Pedestrian: 2168 => 2075\n",
      "[2023-12-17 16:48:41,205 dataset INFO] Database filter by difficulty Cyclist: 705 => 581\n",
      "[2023-12-17 16:48:41,212 dataset INFO] Loading KITTI dataset\n",
      "[2023-12-17 16:48:41,312 dataset INFO] Total samples for KITTI dataset: 3712\n"
     ]
    }
   ],
   "source": [
    "import os\n",
    "\n",
    "import numpy as np\n",
    "import torch\n",
    "import accelerate\n",
    "\n",
    "from rd3d.datasets import build_dataloader\n",
    "from rd3d.core import Config\n",
    "from rd3d import PROJECT_ROOT\n",
    "from rd3d.models.dense_heads.point_segment_head import PointSegmentor\n",
    "\n",
    "os.chdir(PROJECT_ROOT)\n",
    "acc = accelerate.Accelerator()\n",
    "cfg = Config.fromfile_py(\"configs/voxformer/voxformer_4x2_80e_kitti_3cls.py\")\n",
    "dataloader = build_dataloader(cfg.DATASET, cfg.RUN, training=True)\n",
    "batch_dict = next(iter(dataloader))\n",
    "dataloader.dataset.load_data_to_gpu(batch_dict)"
   ],
   "metadata": {
    "collapsed": false,
    "ExecuteTime": {
     "end_time": "2023-12-17T08:48:47.846018950Z",
     "start_time": "2023-12-17T08:48:37.315960719Z"
    }
   }
  },
  {
   "cell_type": "code",
   "execution_count": 2,
   "outputs": [
    {
     "name": "stderr",
     "output_type": "stream",
     "text": [
      "100%|██████████| 464/464 [02:05<00:00,  3.71it/s]\n"
     ]
    }
   ],
   "source": [
    "from rd3d.models import build_detector\n",
    "from tqdm import tqdm\n",
    "model = build_detector(cfg.MODEL, dataset=dataloader.dataset).cuda()\n",
    "model.eval()\n",
    "for batch_dict in tqdm(iterable=dataloader):\n",
    "    dataloader.dataset.load_data_to_gpu(batch_dict)\n",
    "    batch_dict = model.vfe(batch_dict)\n",
    "    vox_coors = batch_dict['voxel_features'][:, -1].int()\n",
    "    assert (vox_coors != 0).all()"
   ],
   "metadata": {
    "collapsed": false,
    "ExecuteTime": {
     "end_time": "2023-12-17T08:50:52.969302698Z",
     "start_time": "2023-12-17T08:48:47.851380076Z"
    }
   }
  },
  {
   "cell_type": "code",
   "execution_count": null,
   "outputs": [],
   "source": [
    "\n"
   ],
   "metadata": {
    "collapsed": false
   }
  }
 ],
 "metadata": {
  "kernelspec": {
   "display_name": "Python 3",
   "language": "python",
   "name": "python3"
  },
  "language_info": {
   "codemirror_mode": {
    "name": "ipython",
    "version": 2
   },
   "file_extension": ".py",
   "mimetype": "text/x-python",
   "name": "python",
   "nbconvert_exporter": "python",
   "pygments_lexer": "ipython2",
   "version": "2.7.6"
  }
 },
 "nbformat": 4,
 "nbformat_minor": 0
}
