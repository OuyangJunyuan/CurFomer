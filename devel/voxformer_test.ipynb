{
 "cells": [
  {
   "cell_type": "code",
   "execution_count": 1,
   "outputs": [
    {
     "name": "stderr",
     "output_type": "stream",
     "text": [
      "[2023-12-19 15:27:23,995 cfg INFO] import module at root: /home/nrsl/workspace/temp/voxformer\n",
      "[2023-12-19 15:27:23,996 cfg INFO] import module as config: configs.voxformer.voxformer_4x2_80e_kitti_3cls\n",
      "[2023-12-19 15:27:24,141 dataset INFO] Database filter by min points Car: 14357 => 13532\n",
      "[2023-12-19 15:27:24,143 dataset INFO] Database filter by min points Pedestrian: 2207 => 2168\n",
      "[2023-12-19 15:27:24,144 dataset INFO] Database filter by min points Cyclist: 734 => 705\n",
      "[2023-12-19 15:27:24,170 dataset INFO] Database filter by difficulty Car: 13532 => 10759\n",
      "[2023-12-19 15:27:24,177 dataset INFO] Database filter by difficulty Pedestrian: 2168 => 2075\n",
      "[2023-12-19 15:27:24,178 dataset INFO] Database filter by difficulty Cyclist: 705 => 581\n",
      "[2023-12-19 15:27:24,185 dataset INFO] Loading KITTI dataset\n",
      "[2023-12-19 15:27:24,312 dataset INFO] Total samples for KITTI dataset: 3712\n"
     ]
    }
   ],
   "source": [
    "import os\n",
    "\n",
    "import numpy as np\n",
    "import torch\n",
    "import accelerate\n",
    "\n",
    "from rd3d.datasets import build_dataloader\n",
    "from rd3d.models import build_detector\n",
    "from rd3d.core import Config\n",
    "from rd3d import PROJECT_ROOT\n",
    "from rd3d.models.dense_heads.point_segment_head import PointSegmentor\n",
    "\n",
    "os.chdir(PROJECT_ROOT)\n",
    "acc = accelerate.Accelerator()\n",
    "cfg = Config.fromfile_py(\"configs/voxformer/voxformer_4x2_80e_kitti_3cls.py\")\n",
    "dataloader = build_dataloader(cfg.DATASET, cfg.RUN,training=True)\n",
    "model = build_detector(cfg.MODEL, dataset=dataloader.dataset).cuda()\n",
    "batch_dict = next(iter(dataloader))\n",
    "dataloader.dataset.load_data_to_gpu(batch_dict)"
   ],
   "metadata": {
    "collapsed": false,
    "ExecuteTime": {
     "end_time": "2023-12-19T07:27:29.195965254Z",
     "start_time": "2023-12-19T07:27:21.478049926Z"
    }
   }
  },
  {
   "cell_type": "code",
   "execution_count": 2,
   "outputs": [
    {
     "name": "stderr",
     "output_type": "stream",
     "text": [
      "[2023-12-19 15:27:29,290 ckpt INFO] load checkpoint /home/nrsl/workspace/temp/voxformer/output/kitti_3cls/voxformer_4x2_80e_kitti_3cls/ssd/train/ckpt/checkpoint_epoch_80.pth to cuda:0\n",
      "[2023-12-19 15:27:29,290 ckpt INFO] checkpoint trained from version: 0.5.2+770d684\n",
      "[2023-12-19 15:27:29,309 ckpt INFO] loaded params for model (237/237)\n"
     ]
    },
    {
     "name": "stdout",
     "output_type": "stream",
     "text": [
      "{'pred_boxes': tensor([[24.2103, 10.6113, -0.7056,  4.2479,  1.7034,  1.5628,  3.2845],\n",
      "        [16.3473,  8.7749, -0.6641,  1.8315,  0.5711,  1.7981,  3.6880],\n",
      "        [12.0736,  0.5378, -0.7651,  4.0129,  1.6483,  1.5954,  0.1473],\n",
      "        [12.3804, -4.6490, -0.8502,  3.7806,  1.5780,  1.4652,  0.1190],\n",
      "        [ 4.8694,  4.5225, -0.9243,  0.8708,  0.6281,  1.7320,  3.6963],\n",
      "        [13.7108, 12.4291, -1.1486,  3.8717,  1.6159,  1.4784,  0.5592],\n",
      "        [20.3610,  7.1796, -0.7372,  3.8472,  1.5999,  1.4860,  0.5008],\n",
      "        [19.8355,  9.1793, -0.6157,  0.8214,  0.5939,  1.7549,  3.6005],\n",
      "        [13.9456,  3.7279, -0.7868,  3.8826,  1.6130,  1.5248,  0.0583]],\n",
      "       device='cuda:0', grad_fn=<IndexBackward0>), 'pred_scores': tensor([0.8032, 0.7908, 0.6947, 0.6122, 0.5848, 0.4756, 0.4441, 0.3651, 0.2930],\n",
      "       device='cuda:0', grad_fn=<IndexBackward0>), 'pred_labels': tensor([1, 3, 1, 1, 2, 1, 1, 2, 1], device='cuda:0')}\n",
      "Jupyter environment detected. Enabling Open3D WebVisualizer.\n",
      "[Open3D INFO] WebRTC GUI backend enabled.\n",
      "[Open3D INFO] WebRTCWindowSystem: HTTP handshake server disabled.\n"
     ]
    }
   ],
   "source": [
    "from rd3d.core.ckpt import load_from_file\n",
    "\n",
    "load_from_file(\"/home/nrsl/workspace/temp/voxformer/output/kitti_3cls/voxformer_4x2_80e_kitti_3cls/ssd/train/ckpt/checkpoint_epoch_80.pth\", model)\n",
    "model.eval()\n",
    "pred_dicts, _ = model(batch_dict)\n",
    "pred_dict = pred_dicts[0]\n",
    "print(pred_dict)\n",
    "from rd3d.utils import viz_utils\n",
    "points = batch_dict['points']\n",
    "points = points[points[:,0]==0]\n",
    "viz_utils.viz_scene(points,pred_dict['pred_boxes'].detach()[:, :7])\n",
    "\n"
   ],
   "metadata": {
    "collapsed": false,
    "ExecuteTime": {
     "end_time": "2023-12-19T07:27:49.309668342Z",
     "start_time": "2023-12-19T07:27:29.201815144Z"
    }
   }
  },
  {
   "cell_type": "code",
   "execution_count": null,
   "outputs": [],
   "source": [
    "\n",
    "from rd3d.utils import viz_utils\n",
    "from matplotlib import pyplot as plt\n",
    "cls_scores = batch_dict['cls_logits'].sigmoid()\n",
    "cls_scores, pred_labels = cls_scores.max(dim=-1)\n",
    "pred_labels += 1\n",
    "pred_labels[cls_scores < 0.1] = 0\n",
    "points = batch_dict['point_coords']\n",
    "\n",
    "ends = torch.cumsum(batch_dict['voxel_numbers'], dim=0)\n",
    "begins = ends - batch_dict['voxel_numbers']\n",
    "\n",
    "print(plt.cm.Set1(0))\n",
    "print(plt.cm.Set1(1))\n",
    "print(plt.cm.Set1(2))\n",
    "print(plt.cm.Set1(3))\n",
    "for begin, end in zip(begins, ends):\n",
    "    this_points = points[begin:end]\n",
    "    this_pred_labels = pred_labels[begin:end].detach().cpu().numpy()\n",
    "    this_colors = plt.cm.Set1(this_pred_labels)[:, :3]\n",
    "    viz_utils.viz_scene((this_points, this_colors))"
   ],
   "metadata": {
    "collapsed": false
   }
  }
 ],
 "metadata": {
  "kernelspec": {
   "display_name": "Python 3",
   "language": "python",
   "name": "python3"
  },
  "language_info": {
   "codemirror_mode": {
    "name": "ipython",
    "version": 2
   },
   "file_extension": ".py",
   "mimetype": "text/x-python",
   "name": "python",
   "nbconvert_exporter": "python",
   "pygments_lexer": "ipython2",
   "version": "2.7.6"
  }
 },
 "nbformat": 4,
 "nbformat_minor": 0
}
