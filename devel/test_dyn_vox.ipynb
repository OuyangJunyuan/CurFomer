{
 "cells": [
  {
   "cell_type": "code",
   "execution_count": 1,
   "outputs": [
    {
     "name": "stdout",
     "output_type": "stream",
     "text": [
      "Jupyter environment detected. Enabling Open3D WebVisualizer.\n",
      "[Open3D INFO] WebRTC GUI backend enabled.\n",
      "[Open3D INFO] WebRTCWindowSystem: HTTP handshake server disabled.\n",
      "torch.Size([44194, 5])\n",
      "tensor([9036, 6099, 3824, 4672], device='cuda:0', dtype=torch.int32)\n"
     ]
    }
   ],
   "source": [
    "import os\n",
    "import time\n",
    "\n",
    "import torch\n",
    "from rd3d import PROJECT_ROOT\n",
    "from rd3d.core.base.timer import ScopeTimer\n",
    "from rd3d.ops.dyn_vox import dyn_vox_batch\n",
    "from rd3d.utils import viz_utils\n",
    "\n",
    "os.chdir(PROJECT_ROOT)\n",
    "batch_dict = torch.load(\"data/cache/batch_dict.pth\")\n",
    "points = batch_dict['points']\n",
    "points1 = points[points[:, 0] == 0, 1:].contiguous()\n",
    "points2 = points1[:points1.shape[0] // 2].clone()\n",
    "points3 = points1[:points1.shape[0] // 4].clone()\n",
    "points4 = points1[:points1.shape[0] // 3].clone()\n",
    "print(points.shape)\n",
    "\n",
    "c, f, n = dyn_vox_batch([points1, points2, points3, points4], [0.2, 0.2, 0.2], [-200, -200, -200, 200, 200, 200])\n",
    "print(n)\n",
    "viz_utils.viz_scene(f[c[:, 0] == 0, :3])\n",
    "# for i in range(1000):\n",
    "#     with ScopeTimer(\"\", average=True):\n",
    "#         dyn_vox(points, [0.2, 0.2, 0.2], [0, -40, -3, 70.4, 40, 1])\n",
    "#\n",
    "# dyn_vox_batch([points1, points2, points3, points4], [0.2, 0.2, 0.2], [-200, -200, -200, 200, 200, 200])\n",
    "# torch.cuda.synchronize()"
   ],
   "metadata": {
    "collapsed": false,
    "ExecuteTime": {
     "end_time": "2023-12-18T06:41:44.988116758Z",
     "start_time": "2023-12-18T06:41:39.316505492Z"
    }
   }
  },
  {
   "cell_type": "code",
   "execution_count": 2,
   "outputs": [
    {
     "name": "stdout",
     "output_type": "stream",
     "text": [
      "torch.Size([44194, 5])\n",
      "torch.Size([3741, 4]) torch.Size([3741, 5]) tensor([3741], device='cuda:0', dtype=torch.int32)\n"
     ]
    }
   ],
   "source": [
    "points = batch_dict['points']\n",
    "points1 = points[points[:, 0] == 0, 1:].contiguous()\n",
    "print(points.shape)\n",
    "\n",
    "c, f, n = dyn_vox_batch([points1], [0.2, 0.2, 0.2], [-20, -20, -20, 20, 20, 20])\n",
    "print(c.shape,f.shape,n)\n",
    "viz_utils.viz_scene(f[c[:, 0] == 0, :3])"
   ],
   "metadata": {
    "collapsed": false,
    "ExecuteTime": {
     "end_time": "2023-12-18T06:41:53.731557603Z",
     "start_time": "2023-12-18T06:41:46.920995935Z"
    }
   }
  }
 ],
 "metadata": {
  "kernelspec": {
   "display_name": "Python 3",
   "language": "python",
   "name": "python3"
  },
  "language_info": {
   "codemirror_mode": {
    "name": "ipython",
    "version": 2
   },
   "file_extension": ".py",
   "mimetype": "text/x-python",
   "name": "python",
   "nbconvert_exporter": "python",
   "pygments_lexer": "ipython2",
   "version": "2.7.6"
  }
 },
 "nbformat": 4,
 "nbformat_minor": 0
}
